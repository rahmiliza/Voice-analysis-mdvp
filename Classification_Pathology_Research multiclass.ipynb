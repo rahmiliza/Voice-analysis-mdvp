{
  "nbformat": 4,
  "nbformat_minor": 0,
  "metadata": {
    "colab": {
      "provenance": [],
      "collapsed_sections": [
        "i2v58T2Q01r_"
      ]
    },
    "kernelspec": {
      "name": "python3",
      "display_name": "Python 3"
    },
    "language_info": {
      "name": "python"
    }
  },
  "cells": [
    {
      "cell_type": "code",
      "source": [
        "from google.colab import drive\n",
        "drive.mount('/content/drive')"
      ],
      "metadata": {
        "colab": {
          "base_uri": "https://localhost:8080/"
        },
        "id": "CQDRIu0309Zg",
        "outputId": "a8c66a77-1c77-4f12-c8e2-ea6e84593fd8"
      },
      "execution_count": 1,
      "outputs": [
        {
          "output_type": "stream",
          "name": "stdout",
          "text": [
            "Mounted at /content/drive\n"
          ]
        }
      ]
    },
    {
      "cell_type": "markdown",
      "source": [
        "# **MDVP Extract Features**"
      ],
      "metadata": {
        "id": "i2v58T2Q01r_"
      }
    },
    {
      "cell_type": "code",
      "execution_count": 188,
      "metadata": {
        "id": "-3egfX9P0pF6",
        "colab": {
          "base_uri": "https://localhost:8080/"
        },
        "outputId": "f2fff973-30d3-47d4-9ea6-b28569c437bf"
      },
      "outputs": [
        {
          "output_type": "stream",
          "name": "stdout",
          "text": [
            "Requirement already satisfied: praat-parselmouth in /usr/local/lib/python3.10/dist-packages (0.4.3)\n",
            "Requirement already satisfied: numpy>=1.7.0 in /usr/local/lib/python3.10/dist-packages (from praat-parselmouth) (1.23.5)\n",
            "Traceback (most recent call last):\n",
            "  File \"/usr/local/lib/python3.10/dist-packages/pip/_vendor/pkg_resources/__init__.py\", line 3108, in _dep_map\n",
            "    return self.__dep_map\n",
            "  File \"/usr/local/lib/python3.10/dist-packages/pip/_vendor/pkg_resources/__init__.py\", line 2901, in __getattr__\n",
            "    raise AttributeError(attr)\n",
            "AttributeError: _DistInfoDistribution__dep_map\n",
            "\n",
            "During handling of the above exception, another exception occurred:\n",
            "\n",
            "Traceback (most recent call last):\n",
            "  File \"/usr/local/lib/python3.10/dist-packages/pip/_internal/cli/base_command.py\", line 169, in exc_logging_wrapper\n",
            "    status = run_func(*args)\n",
            "  File \"/usr/local/lib/python3.10/dist-packages/pip/_internal/cli/req_command.py\", line 242, in wrapper\n",
            "    return func(self, options, args)\n",
            "  File \"/usr/local/lib/python3.10/dist-packages/pip/_internal/commands/install.py\", line 441, in run\n",
            "    conflicts = self._determine_conflicts(to_install)\n",
            "  File \"/usr/local/lib/python3.10/dist-packages/pip/_internal/commands/install.py\", line 572, in _determine_conflicts\n",
            "    return check_install_conflicts(to_install)\n",
            "  File \"/usr/local/lib/python3.10/dist-packages/pip/_internal/operations/check.py\", line 101, in check_install_conflicts\n",
            "    package_set, _ = create_package_set_from_installed()\n",
            "  File \"/usr/local/lib/python3.10/dist-packages/pip/_internal/operations/check.py\", line 42, in create_package_set_from_installed\n",
            "    dependencies = list(dist.iter_dependencies())\n",
            "  File \"/usr/local/lib/python3.10/dist-packages/pip/_internal/metadata/pkg_resources.py\", line 216, in iter_dependencies\n",
            "    return self._dist.requires(extras)\n",
            "  File \"/usr/local/lib/python3.10/dist-packages/pip/_vendor/pkg_resources/__init__.py\", line 2821, in requires\n",
            "    dm = self._dep_map\n",
            "  File \"/usr/local/lib/python3.10/dist-packages/pip/_vendor/pkg_resources/__init__.py\", line 3110, in _dep_map\n",
            "    self.__dep_map = self._compute_dependencies()\n",
            "  File \"/usr/local/lib/python3.10/dist-packages/pip/_vendor/pkg_resources/__init__.py\", line 3120, in _compute_dependencies\n",
            "    reqs.extend(parse_requirements(req))\n",
            "  File \"/usr/local/lib/python3.10/dist-packages/pip/_vendor/pkg_resources/__init__.py\", line 3173, in __init__\n",
            "    super(Requirement, self).__init__(requirement_string)\n",
            "  File \"/usr/local/lib/python3.10/dist-packages/pip/_vendor/packaging/requirements.py\", line 102, in __init__\n",
            "    req = REQUIREMENT.parseString(requirement_string)\n",
            "  File \"/usr/local/lib/python3.10/dist-packages/pip/_vendor/pyparsing/core.py\", line 1131, in parse_string\n",
            "    loc, tokens = self._parse(instring, 0)\n",
            "  File \"/usr/local/lib/python3.10/dist-packages/pip/_vendor/pyparsing/core.py\", line 817, in _parseNoCache\n",
            "    loc, tokens = self.parseImpl(instring, pre_loc, doActions)\n",
            "  File \"/usr/local/lib/python3.10/dist-packages/pip/_vendor/pyparsing/core.py\", line 3886, in parseImpl\n",
            "    loc, exprtokens = e._parse(instring, loc, doActions)\n",
            "  File \"/usr/local/lib/python3.10/dist-packages/pip/_vendor/pyparsing/core.py\", line 817, in _parseNoCache\n",
            "    loc, tokens = self.parseImpl(instring, pre_loc, doActions)\n",
            "  File \"/usr/local/lib/python3.10/dist-packages/pip/_vendor/pyparsing/core.py\", line 4114, in parseImpl\n",
            "    return e._parse(\n",
            "  File \"/usr/local/lib/python3.10/dist-packages/pip/_vendor/pyparsing/core.py\", line 817, in _parseNoCache\n",
            "    loc, tokens = self.parseImpl(instring, pre_loc, doActions)\n",
            "  File \"/usr/local/lib/python3.10/dist-packages/pip/_vendor/pyparsing/core.py\", line 3886, in parseImpl\n",
            "    loc, exprtokens = e._parse(instring, loc, doActions)\n",
            "  File \"/usr/local/lib/python3.10/dist-packages/pip/_vendor/pyparsing/core.py\", line 817, in _parseNoCache\n",
            "    loc, tokens = self.parseImpl(instring, pre_loc, doActions)\n",
            "  File \"/usr/local/lib/python3.10/dist-packages/pip/_vendor/pyparsing/core.py\", line 4959, in parseImpl\n",
            "    loc, tokens = self_expr._parse(instring, loc, doActions, callPreParse=False)\n",
            "  File \"/usr/local/lib/python3.10/dist-packages/pip/_vendor/pyparsing/core.py\", line 817, in _parseNoCache\n",
            "    loc, tokens = self.parseImpl(instring, pre_loc, doActions)\n",
            "  File \"/usr/local/lib/python3.10/dist-packages/pip/_vendor/pyparsing/core.py\", line 3886, in parseImpl\n",
            "    loc, exprtokens = e._parse(instring, loc, doActions)\n",
            "  File \"/usr/local/lib/python3.10/dist-packages/pip/_vendor/pyparsing/core.py\", line 856, in _parseNoCache\n",
            "    tokens = fn(instring, tokens_start, ret_tokens)\n",
            "  File \"/usr/local/lib/python3.10/dist-packages/pip/_vendor/pyparsing/core.py\", line 291, in wrapper\n",
            "    ret = func(*args[limit:])\n",
            "  File \"/usr/local/lib/python3.10/dist-packages/pip/_vendor/packaging/requirements.py\", line 71, in <lambda>\n",
            "    lambda s, l, t: Marker(s[t._original_start : t._original_end])\n",
            "  File \"/usr/local/lib/python3.10/dist-packages/pip/_vendor/packaging/markers.py\", line 278, in __init__\n",
            "    self._markers = _coerce_parse_result(MARKER.parseString(marker))\n",
            "  File \"/usr/local/lib/python3.10/dist-packages/pip/_vendor/pyparsing/core.py\", line 1131, in parse_string\n",
            "    loc, tokens = self._parse(instring, 0)\n",
            "  File \"/usr/local/lib/python3.10/dist-packages/pip/_vendor/pyparsing/core.py\", line 817, in _parseNoCache\n",
            "    loc, tokens = self.parseImpl(instring, pre_loc, doActions)\n",
            "  File \"/usr/local/lib/python3.10/dist-packages/pip/_vendor/pyparsing/core.py\", line 3886, in parseImpl\n",
            "    loc, exprtokens = e._parse(instring, loc, doActions)\n",
            "  File \"/usr/local/lib/python3.10/dist-packages/pip/_vendor/pyparsing/core.py\", line 817, in _parseNoCache\n",
            "    loc, tokens = self.parseImpl(instring, pre_loc, doActions)\n",
            "  File \"/usr/local/lib/python3.10/dist-packages/pip/_vendor/pyparsing/core.py\", line 5226, in parseImpl\n",
            "    return super().parseImpl(instring, loc, doActions)\n",
            "  File \"/usr/local/lib/python3.10/dist-packages/pip/_vendor/pyparsing/core.py\", line 4375, in parseImpl\n",
            "    return self.expr._parse(instring, loc, doActions, callPreParse=False)\n",
            "  File \"/usr/local/lib/python3.10/dist-packages/pip/_vendor/pyparsing/core.py\", line 817, in _parseNoCache\n",
            "    loc, tokens = self.parseImpl(instring, pre_loc, doActions)\n",
            "  File \"/usr/local/lib/python3.10/dist-packages/pip/_vendor/pyparsing/core.py\", line 3864, in parseImpl\n",
            "    loc, resultlist = self.exprs[0]._parse(\n",
            "  File \"/usr/local/lib/python3.10/dist-packages/pip/_vendor/pyparsing/core.py\", line 817, in _parseNoCache\n",
            "    loc, tokens = self.parseImpl(instring, pre_loc, doActions)\n",
            "  File \"/usr/local/lib/python3.10/dist-packages/pip/_vendor/pyparsing/core.py\", line 4114, in parseImpl\n",
            "    return e._parse(\n",
            "  File \"/usr/local/lib/python3.10/dist-packages/pip/_vendor/pyparsing/core.py\", line 817, in _parseNoCache\n",
            "    loc, tokens = self.parseImpl(instring, pre_loc, doActions)\n",
            "  File \"/usr/local/lib/python3.10/dist-packages/pip/_vendor/pyparsing/core.py\", line 4375, in parseImpl\n",
            "    return self.expr._parse(instring, loc, doActions, callPreParse=False)\n",
            "  File \"/usr/local/lib/python3.10/dist-packages/pip/_vendor/pyparsing/core.py\", line 817, in _parseNoCache\n",
            "    loc, tokens = self.parseImpl(instring, pre_loc, doActions)\n",
            "  File \"/usr/local/lib/python3.10/dist-packages/pip/_vendor/pyparsing/core.py\", line 3886, in parseImpl\n",
            "    loc, exprtokens = e._parse(instring, loc, doActions)\n",
            "  File \"/usr/local/lib/python3.10/dist-packages/pip/_vendor/pyparsing/core.py\", line 817, in _parseNoCache\n",
            "    loc, tokens = self.parseImpl(instring, pre_loc, doActions)\n",
            "  File \"/usr/local/lib/python3.10/dist-packages/pip/_vendor/pyparsing/core.py\", line 5226, in parseImpl\n",
            "    return super().parseImpl(instring, loc, doActions)\n",
            "  File \"/usr/local/lib/python3.10/dist-packages/pip/_vendor/pyparsing/core.py\", line 4375, in parseImpl\n",
            "    return self.expr._parse(instring, loc, doActions, callPreParse=False)\n",
            "  File \"/usr/local/lib/python3.10/dist-packages/pip/_vendor/pyparsing/core.py\", line 817, in _parseNoCache\n",
            "    loc, tokens = self.parseImpl(instring, pre_loc, doActions)\n",
            "  File \"/usr/local/lib/python3.10/dist-packages/pip/_vendor/pyparsing/core.py\", line 3864, in parseImpl\n",
            "    loc, resultlist = self.exprs[0]._parse(\n",
            "  File \"/usr/local/lib/python3.10/dist-packages/pip/_vendor/pyparsing/core.py\", line 817, in _parseNoCache\n",
            "    loc, tokens = self.parseImpl(instring, pre_loc, doActions)\n",
            "  File \"/usr/local/lib/python3.10/dist-packages/pip/_vendor/pyparsing/core.py\", line 4114, in parseImpl\n",
            "    return e._parse(\n",
            "  File \"/usr/local/lib/python3.10/dist-packages/pip/_vendor/pyparsing/core.py\", line 817, in _parseNoCache\n",
            "    loc, tokens = self.parseImpl(instring, pre_loc, doActions)\n",
            "  File \"/usr/local/lib/python3.10/dist-packages/pip/_vendor/pyparsing/core.py\", line 4375, in parseImpl\n",
            "    return self.expr._parse(instring, loc, doActions, callPreParse=False)\n",
            "  File \"/usr/local/lib/python3.10/dist-packages/pip/_vendor/pyparsing/core.py\", line 817, in _parseNoCache\n",
            "    loc, tokens = self.parseImpl(instring, pre_loc, doActions)\n",
            "  File \"/usr/local/lib/python3.10/dist-packages/pip/_vendor/pyparsing/core.py\", line 3886, in parseImpl\n",
            "    loc, exprtokens = e._parse(instring, loc, doActions)\n",
            "  File \"/usr/local/lib/python3.10/dist-packages/pip/_vendor/pyparsing/core.py\", line 817, in _parseNoCache\n",
            "    loc, tokens = self.parseImpl(instring, pre_loc, doActions)\n",
            "  File \"/usr/local/lib/python3.10/dist-packages/pip/_vendor/pyparsing/core.py\", line 4114, in parseImpl\n",
            "    return e._parse(\n",
            "  File \"/usr/local/lib/python3.10/dist-packages/pip/_vendor/pyparsing/core.py\", line 817, in _parseNoCache\n",
            "    loc, tokens = self.parseImpl(instring, pre_loc, doActions)\n",
            "  File \"/usr/local/lib/python3.10/dist-packages/pip/_vendor/pyparsing/core.py\", line 4114, in parseImpl\n",
            "    return e._parse(\n",
            "  File \"/usr/local/lib/python3.10/dist-packages/pip/_vendor/pyparsing/core.py\", line 821, in _parseNoCache\n",
            "    loc, tokens = self.parseImpl(instring, pre_loc, doActions)\n",
            "  File \"/usr/local/lib/python3.10/dist-packages/pip/_vendor/pyparsing/core.py\", line 2336, in parseImpl\n",
            "    def parseImpl(self, instring, loc, doActions=True):\n",
            "KeyboardInterrupt\n",
            "\n",
            "During handling of the above exception, another exception occurred:\n",
            "\n",
            "Traceback (most recent call last):\n",
            "  File \"/usr/local/bin/pip3\", line 8, in <module>\n",
            "    sys.exit(main())\n",
            "  File \"/usr/local/lib/python3.10/dist-packages/pip/_internal/cli/main.py\", line 79, in main\n",
            "    return command.main(cmd_args)\n",
            "  File \"/usr/local/lib/python3.10/dist-packages/pip/_internal/cli/base_command.py\", line 101, in main\n",
            "    return self._main(args)\n",
            "  File \"/usr/local/lib/python3.10/dist-packages/pip/_internal/cli/base_command.py\", line 223, in _main\n",
            "    return run(options, args)\n",
            "  File \"/usr/local/lib/python3.10/dist-packages/pip/_internal/cli/base_command.py\", line 206, in exc_logging_wrapper\n",
            "    logger.critical(\"Operation cancelled by user\")\n",
            "  File \"/usr/lib/python3.10/logging/__init__.py\", line 1514, in critical\n",
            "    def critical(self, msg, *args, **kwargs):\n",
            "KeyboardInterrupt\n",
            "^C\n"
          ]
        }
      ],
      "source": [
        "!pip install praat-parselmouth"
      ]
    },
    {
      "cell_type": "code",
      "source": [
        "import parselmouth\n",
        "import glob\n",
        "import numpy as np\n",
        "import pandas as pd\n",
        "\n",
        "def measureVoice(voiceID):\n",
        "  sound = parselmouth.Sound(voiceID)\n",
        "\n",
        "  pitch = sound.to_pitch()\n",
        "  fo = parselmouth.praat.call(pitch, \"Get mean\", 0, 0, \"Hertz\")\n",
        "  fhi = parselmouth.praat.call(pitch, \"Get maximum\", 0, 0, \"Hertz\", \"Parabolic\")\n",
        "  flo = parselmouth.praat.call(pitch, \"Get minimum\", 0, 0, \"Hertz\", \"Parabolic\")\n",
        "\n",
        "  point_process = parselmouth.praat.call([sound, pitch], \"To PointProcess (cc)\")\n",
        "\n",
        "  jitter_local = parselmouth.praat.call(point_process, \"Get jitter (local)\", 0, 0, 0.0001, 0.02, 1.3)\n",
        "  jitter_abs = parselmouth.praat.call(point_process, \"Get jitter (local, absolute)\", 0, 0, 0.0001, 0.02, 1.3)\n",
        "  jitter_rap = parselmouth.praat.call(point_process, \"Get jitter (rap)\", 0, 0, 0.0001, 0.02, 1.3)\n",
        "  jitter_ppq = parselmouth.praat.call(point_process, \"Get jitter (ppq5)\", 0, 0, 0.0001, 0.02, 1.3)\n",
        "  jitter_ddp = parselmouth.praat.call(point_process, \"Get jitter (ddp)\", 0, 0, 0.0001, 0.02, 1.3)\n",
        "  shimmer_local = parselmouth.praat.call([sound, point_process], \"Get shimmer (local)\", 0, 0, 0.0001, 0.02, 1.3, 1.6)\n",
        "  shimmer_dB = parselmouth.praat.call([sound, point_process], \"Get shimmer (local_dB)\", 0, 0, 0.0001, 0.02, 1.3, 1.6)\n",
        "  shimmer_apq3 = parselmouth.praat.call([sound, point_process], \"Get shimmer (apq3)\", 0, 0, 0.0001, 0.02, 1.3, 1.6)\n",
        "  shimmer_apq5 = parselmouth.praat.call([sound, point_process], \"Get shimmer (apq5)\", 0, 0, 0.0001, 0.02, 1.3, 1.6)\n",
        "  shimmer_dda = parselmouth.praat.call([sound, point_process], \"Get shimmer (dda)\", 0, 0, 0.0001, 0.02, 1.3, 1.6)\n",
        "\n",
        "  harmonicity = sound.to_harmonicity()\n",
        "  hnr = parselmouth.praat.call(harmonicity, \"Get mean\", 0, 0)\n",
        "\n",
        "  noise_start = sound.extract_part(0, 0.5, preserve_times=True, window_shape=parselmouth.WindowShape.RECTANGULAR)\n",
        "  noise_end = sound.extract_part(9.5, 10, preserve_times=True, window_shape=parselmouth.WindowShape.RECTANGULAR)\n",
        "  noise_energy = noise_start.get_energy() + noise_end.get_energy()\n",
        "  signal_energy = sound.get_energy()\n",
        "  nhr = noise_energy / signal_energy\n",
        "\n",
        "  apq = parselmouth.praat.call([sound, point_process], \"Get shimmer (apq11)\", 0, 0, 0.0001, 0.02, 1.3, 1.6)\n",
        "\n",
        "  return fo, fhi, flo, jitter_local, jitter_abs, jitter_rap, jitter_ppq, jitter_ddp, shimmer_local, shimmer_dB, shimmer_apq3, shimmer_apq5, shimmer_dda, hnr, nhr, apq\n",
        "\n",
        "def extractFeatures(soundFiles, filename, status):\n",
        "  file_lists = []\n",
        "  fo_lists = []\n",
        "  fhi_lists = []\n",
        "  flo_lists = []\n",
        "  jitter_local_lists = []\n",
        "  jitter_abs_lists = []\n",
        "  jitter_rap_lists = []\n",
        "  jitter_ppq_lists = []\n",
        "  jitter_ddp_lists = []\n",
        "  shimmer_local_lists = []\n",
        "  shimmer_dB_lists = []\n",
        "  shimmer_apq3_lists = []\n",
        "  shimmer_apq5_lists = []\n",
        "  shimmer_dda_lists = []\n",
        "  hnr_lists = []\n",
        "  nhr_lists = []\n",
        "  apq_lists = []\n",
        "  status_lists = []\n",
        "\n",
        "  for soundFile in glob.glob(soundFiles):\n",
        "      sound = parselmouth.Sound(soundFile)\n",
        "      (fo, fhi, flo, jitter_local, jitter_abs, jitter_rap, jitter_ppq, jitter_ddp, shimmer_local, shimmer_dB, shimmer_apq3, shimmer_apq5, shimmer_dda, hnr, nhr, apq) = measureVoice(sound)\n",
        "\n",
        "      file_lists.append(soundFile)\n",
        "      fo_lists.append(fo)\n",
        "      fhi_lists.append(fhi)\n",
        "      flo_lists.append(flo)\n",
        "      jitter_local_lists.append(jitter_local)\n",
        "      jitter_abs_lists.append(jitter_abs)\n",
        "      jitter_rap_lists.append(jitter_rap)\n",
        "      jitter_ppq_lists.append(jitter_ppq)\n",
        "      jitter_ddp_lists.append(jitter_ddp)\n",
        "      shimmer_local_lists.append(shimmer_local)\n",
        "      shimmer_dB_lists.append(shimmer_dB)\n",
        "      shimmer_apq3_lists.append(shimmer_apq3)\n",
        "      shimmer_apq5_lists.append(shimmer_apq5)\n",
        "      shimmer_dda_lists.append(shimmer_dda)\n",
        "      hnr_lists.append(hnr)\n",
        "      nhr_lists.append(nhr)\n",
        "      apq_lists.append(apq)\n",
        "      status_lists.append(status)\n",
        "\n",
        "\n",
        "  df = pd.DataFrame(np.column_stack([file_lists, fo_lists, fhi_lists, flo_lists, jitter_local_lists, jitter_abs_lists, jitter_rap_lists, jitter_ppq_lists, jitter_ddp_lists, shimmer_local_lists, shimmer_dB_lists, shimmer_apq3_lists, shimmer_apq5_lists, shimmer_dda_lists, hnr_lists, nhr_lists, apq_lists, status_lists]),\n",
        "                    columns=['voice', 'MDVP:Fo (Hz)','MDVP:Fhi (Hz)','MDVP:Flo (Hz)','MDVP:Jitter (%)','MDVP:Jitter (Abs)','Jitter:RAP','MDVP:PPQ','Jitter:DDP','MDVP:Shimmer','MDVP:Shimmer (dB)','Shimmer:APQ3','Shimmer:APQ5','Shimmer:DDA','NHR','HNR','MDVP:APQ','status'])\n",
        "\n",
        "  df.to_csv(filename, index=False)"
      ],
      "metadata": {
        "id": "iSw9w7Lk1Avf"
      },
      "execution_count": 189,
      "outputs": []
    },
    {
      "cell_type": "markdown",
      "source": [
        "Extract Healthy"
      ],
      "metadata": {
        "id": "X_e0i2H9LOVq"
      }
    },
    {
      "cell_type": "code",
      "source": [
        "healthy_source = \"/content/drive/MyDrive/Colab Notebooks/Clasification Pathology/Dataset/healthy/*\"\n",
        "healthy_output = \"/content/drive/MyDrive/Colab Notebooks/Clasification Pathology/Dataset/healthy.csv\"\n",
        "\n",
        "extractFeatures(healthy_source, healthy_output, 0);"
      ],
      "metadata": {
        "id": "y03ajD_a1CNb"
      },
      "execution_count": null,
      "outputs": []
    },
    {
      "cell_type": "markdown",
      "source": [
        "Extract Feature Nodule"
      ],
      "metadata": {
        "id": "zNm-R58dLRJR"
      }
    },
    {
      "cell_type": "code",
      "source": [
        "nodule_source = \"/content/drive/MyDrive/Colab Notebooks/Clasification Pathology/Dataset/nodule/*\"\n",
        "nodule_output = \"/content/drive/MyDrive/Colab Notebooks/Clasification Pathology/Dataset/nodule.csv\"\n",
        "\n",
        "extractFeatures(nodule_source, nodule_output, 1);"
      ],
      "metadata": {
        "id": "ybOhDR_gLU13"
      },
      "execution_count": null,
      "outputs": []
    },
    {
      "cell_type": "markdown",
      "source": [
        "Extract Feature Polyps"
      ],
      "metadata": {
        "id": "gTStTbbLLWsQ"
      }
    },
    {
      "cell_type": "code",
      "source": [
        "polyps_source = \"/content/drive/MyDrive/Colab Notebooks/Clasification Pathology/Dataset/polyps/*\"\n",
        "polyps_output = \"/content/drive/MyDrive/Colab Notebooks/Clasification Pathology/Dataset/polyps.csv\"\n",
        "\n",
        "extractFeatures(polyps_source, polyps_output, 2);"
      ],
      "metadata": {
        "id": "1VH9uZoMLZj3"
      },
      "execution_count": null,
      "outputs": []
    },
    {
      "cell_type": "markdown",
      "source": [
        "Extract Feature Reinke's Edema\n"
      ],
      "metadata": {
        "id": "xh0ODhoYLaso"
      }
    },
    {
      "cell_type": "code",
      "source": [
        "reinke_edema_source = \"/content/drive/MyDrive/Colab Notebooks/Clasification Pathology/Dataset/reinke's edema/*\"\n",
        "reinke_edema_output = \"/content/drive/MyDrive/Colab Notebooks/Clasification Pathology/Dataset/reinkes_edema.csv\"\n",
        "\n",
        "extractFeatures(reinke_edema_source, reinke_edema_output, 3);"
      ],
      "metadata": {
        "id": "ZgBtNe9yLhBv"
      },
      "execution_count": null,
      "outputs": []
    },
    {
      "cell_type": "markdown",
      "source": [
        "Extract Feature Paralysis"
      ],
      "metadata": {
        "id": "cHajIy6rmtkV"
      }
    },
    {
      "cell_type": "code",
      "source": [
        "paralysis_source = \"/content/drive/MyDrive/Colab Notebooks/Clasification Pathology/Dataset/paralysis/*\"\n",
        "paralysis_output = \"/content/drive/MyDrive/Colab Notebooks/Clasification Pathology/Dataset/paralysis.csv\"\n",
        "\n",
        "extractFeatures(paralysis_source, paralysis_output, 4);"
      ],
      "metadata": {
        "id": "Iw-nCxdHmydE"
      },
      "execution_count": null,
      "outputs": []
    },
    {
      "cell_type": "markdown",
      "source": [
        "# **Classifications**"
      ],
      "metadata": {
        "id": "kqZG-idfMOiS"
      }
    },
    {
      "cell_type": "markdown",
      "source": [
        "Load and Prepare Data\n"
      ],
      "metadata": {
        "id": "193LznDURX8-"
      }
    },
    {
      "cell_type": "code",
      "source": [
        "import pandas as pd\n",
        "from sklearn.model_selection import train_test_split\n",
        "\n",
        "healthy = pd.read_csv('/content/drive/MyDrive/Colab Notebooks/Clasification Pathology/Dataset/healthy.csv')\n",
        "nodule = pd.read_csv('/content/drive/MyDrive/Colab Notebooks/Clasification Pathology/Dataset/nodule.csv')\n",
        "polyp = pd.read_csv('/content/drive/MyDrive/Colab Notebooks/Clasification Pathology/Dataset/polyps.csv')\n",
        "reinkes = pd.read_csv('/content/drive/MyDrive/Colab Notebooks/Clasification Pathology/Dataset/reinkes_edema.csv')\n",
        "paralysis = pd.read_csv('/content/drive/MyDrive/Colab Notebooks/Clasification Pathology/Dataset/paralysis.csv')\n",
        "\n",
        "data = pd.concat([healthy, nodule, polyp, reinkes, paralysis], ignore_index=True)\n",
        "\n",
        "features = data.drop(['voice', 'status'], axis=1)\n",
        "labels = data['status']\n",
        "\n",
        "labelClasses = [\"Healthy\", \"Nodule\", \"Polyps\", \"Reinke's Edema\", \"Paralysis\"]\n",
        "\n",
        "X_train, X_test, y_train, y_test = train_test_split(features, labels, test_size=0.2, random_state=47)"
      ],
      "metadata": {
        "id": "gFcK4FzLL7iA"
      },
      "execution_count": 149,
      "outputs": []
    },
    {
      "cell_type": "code",
      "source": [
        "print(\"Train Dataset:\", len(X_train))\n",
        "print(\"Test Dataset:\", len(X_test))"
      ],
      "metadata": {
        "id": "PI0LnRc1ztQS"
      },
      "execution_count": null,
      "outputs": []
    },
    {
      "cell_type": "code",
      "source": [
        "from sklearn.model_selection import cross_validate\n",
        "from sklearn.metrics import precision_recall_fscore_support\n",
        "\n",
        "\n",
        "def cross_validation(model, _X, _y, _cv=5):\n",
        "    _scoring = ['accuracy', 'precision_weighted', 'recall_weighted', 'f1_weighted']\n",
        "\n",
        "    results = cross_validate(estimator=model,\n",
        "                             X=_X,\n",
        "                             y=_y,\n",
        "                             cv=_cv,\n",
        "                             scoring=_scoring,\n",
        "                             return_train_score=True)\n",
        "\n",
        "    # Menyesuaikan argumen average dan zero_division\n",
        "    precision, recall, f1, _ = precision_recall_fscore_support(_y, model.predict(_X), average='weighted')\n",
        "\n",
        "    return {\n",
        "        \"Training Accuracy scores\": results['train_accuracy'],\n",
        "        \"Mean Training Accuracy\": results['train_accuracy'].mean() * 100,\n",
        "        \"Training Precision scores\": precision,\n",
        "        \"Mean Training Precision\": precision,\n",
        "        \"Training Recall scores\": recall,\n",
        "        \"Mean Training Recall\": recall,\n",
        "        \"Training F1 scores\": f1,\n",
        "        \"Mean Training F1 Score\": f1,\n",
        "        \"Validation Accuracy scores\": results['test_accuracy'],\n",
        "        \"Mean Validation Accuracy\": results['test_accuracy'].mean() * 100,\n",
        "        \"Validation Precision scores\": results['test_precision_weighted'],\n",
        "        \"Mean Validation Precision\": results['test_precision_weighted'].mean(),\n",
        "        \"Validation Recall scores\": results['test_recall_weighted'],\n",
        "        \"Mean Validation Recall\": results['test_recall_weighted'].mean(),\n",
        "        \"Validation F1 scores\": results['test_f1_weighted'],\n",
        "        \"Mean Validation F1 Score\": results['test_f1_weighted'].mean()\n",
        "    }"
      ],
      "metadata": {
        "id": "WXytDSHfXfj_"
      },
      "execution_count": 36,
      "outputs": []
    },
    {
      "cell_type": "markdown",
      "source": [
        "**XGBoost**"
      ],
      "metadata": {
        "id": "PiqpTU1XTmwa"
      }
    },
    {
      "cell_type": "code",
      "source": [
        "from sklearn.model_selection import GridSearchCV\n",
        "from xgboost import XGBClassifier\n",
        "import numpy as np\n",
        "\n",
        "xgb_first_model = XGBClassifier(objective=\"multi:softmax\", n_estimators=100, eval_metric=[\"auc\", \"merror\", \"mlogloss\"], random_state=5)\n",
        "xgb_first_model.fit(X_train, y_train, eval_set=[( X_test, y_test)], verbose=10)\n",
        "\n",
        "param_grid = {\n",
        "    'n_estimators': [100, 200, 400],\n",
        "    'max_depth': [3, 6, 9],\n",
        "    'learning_rate': [0.001, 0.01, 0.1],\n",
        "    # 'min_child_weight': [1, 10, 100]\n",
        "}\n",
        "\n",
        "grid_search = GridSearchCV(estimator=xgb_first_model, param_grid=param_grid, cv=3, scoring='accuracy', n_jobs=-1, verbose=10)\n",
        "grid_search.fit(X_train, y_train)\n",
        "\n",
        "best_estimator = grid_search.best_estimator_\n",
        "print(f'Best Hyperparameters: {best_estimator}')"
      ],
      "metadata": {
        "colab": {
          "base_uri": "https://localhost:8080/"
        },
        "id": "YHLPtcuf1qZL",
        "outputId": "24321ce9-a5f9-44dd-b4b0-dac3c4ba8912"
      },
      "execution_count": 154,
      "outputs": [
        {
          "output_type": "stream",
          "name": "stdout",
          "text": [
            "[0]\tvalidation_0-auc:0.83092\tvalidation_0-merror:0.42373\tvalidation_0-mlogloss:1.37012\n",
            "[10]\tvalidation_0-auc:0.88188\tvalidation_0-merror:0.35593\tvalidation_0-mlogloss:0.98871\n",
            "[20]\tvalidation_0-auc:0.88262\tvalidation_0-merror:0.37288\tvalidation_0-mlogloss:1.05470\n",
            "[30]\tvalidation_0-auc:0.88039\tvalidation_0-merror:0.35593\tvalidation_0-mlogloss:1.09373\n",
            "[40]\tvalidation_0-auc:0.88204\tvalidation_0-merror:0.37288\tvalidation_0-mlogloss:1.13067\n",
            "[50]\tvalidation_0-auc:0.88193\tvalidation_0-merror:0.37288\tvalidation_0-mlogloss:1.16698\n",
            "[60]\tvalidation_0-auc:0.88089\tvalidation_0-merror:0.37288\tvalidation_0-mlogloss:1.19233\n",
            "[70]\tvalidation_0-auc:0.88054\tvalidation_0-merror:0.37288\tvalidation_0-mlogloss:1.21058\n",
            "[80]\tvalidation_0-auc:0.88078\tvalidation_0-merror:0.37288\tvalidation_0-mlogloss:1.23141\n",
            "[90]\tvalidation_0-auc:0.88043\tvalidation_0-merror:0.37288\tvalidation_0-mlogloss:1.24819\n",
            "[99]\tvalidation_0-auc:0.87878\tvalidation_0-merror:0.37288\tvalidation_0-mlogloss:1.25467\n",
            "Fitting 3 folds for each of 27 candidates, totalling 81 fits\n",
            "Best Hyperparameters: XGBClassifier(base_score=None, booster=None, callbacks=None,\n",
            "              colsample_bylevel=None, colsample_bynode=None,\n",
            "              colsample_bytree=None, device=None, early_stopping_rounds=None,\n",
            "              enable_categorical=False,\n",
            "              eval_metric=['auc', 'merror', 'mlogloss'], feature_types=None,\n",
            "              gamma=None, grow_policy=None, importance_type=None,\n",
            "              interaction_constraints=None, learning_rate=0.1, max_bin=None,\n",
            "              max_cat_threshold=None, max_cat_to_onehot=None,\n",
            "              max_delta_step=None, max_depth=9, max_leaves=None,\n",
            "              min_child_weight=None, missing=nan, monotone_constraints=None,\n",
            "              multi_strategy=None, n_estimators=200, n_jobs=None,\n",
            "              num_parallel_tree=None, objective='multi:softmax', ...)\n"
          ]
        }
      ]
    },
    {
      "cell_type": "code",
      "source": [
        "from sklearn.model_selection import train_test_split, cross_val_score, GridSearchCV\n",
        "from sklearn.metrics import accuracy_score, confusion_matrix, classification_report\n",
        "from sklearn.feature_selection import RFE\n",
        "from xgboost import XGBClassifier\n",
        "import matplotlib.pyplot as plt\n",
        "import seaborn as sns\n",
        "\n",
        "xgb_model = best_estimator\n",
        "xgb_model.fit(X_train, y_train, eval_set=[( X_test, y_test)], verbose=5)\n",
        "\n",
        "xgb_predict_labels = xgb_model.predict(X_test)\n",
        "\n",
        "xgb_accuracy = accuracy_score(y_test, xgb_predict_labels)\n",
        "print(f'Accuracy: {xgb_accuracy:.2f}')\n",
        "\n",
        "print('Report:\\n', classification_report(y_test, xgb_predict_labels))\n",
        "\n",
        "xgb_model.save_model('xgboost_model.json')"
      ],
      "metadata": {
        "colab": {
          "base_uri": "https://localhost:8080/"
        },
        "id": "qMzQAt_TSaNJ",
        "outputId": "df9e5471-2df4-40d7-aad8-8979b19c25b4"
      },
      "execution_count": 155,
      "outputs": [
        {
          "output_type": "stream",
          "name": "stdout",
          "text": [
            "[0]\tvalidation_0-auc:0.80506\tvalidation_0-merror:0.33898\tvalidation_0-mlogloss:1.51960\n",
            "[5]\tvalidation_0-auc:0.84235\tvalidation_0-merror:0.38983\tvalidation_0-mlogloss:1.25306\n",
            "[10]\tvalidation_0-auc:0.85031\tvalidation_0-merror:0.38983\tvalidation_0-mlogloss:1.12415\n",
            "[15]\tvalidation_0-auc:0.85559\tvalidation_0-merror:0.37288\tvalidation_0-mlogloss:1.07287\n",
            "[20]\tvalidation_0-auc:0.85101\tvalidation_0-merror:0.38983\tvalidation_0-mlogloss:1.06747\n",
            "[25]\tvalidation_0-auc:0.84917\tvalidation_0-merror:0.38983\tvalidation_0-mlogloss:1.06947\n",
            "[30]\tvalidation_0-auc:0.85290\tvalidation_0-merror:0.40678\tvalidation_0-mlogloss:1.06973\n",
            "[35]\tvalidation_0-auc:0.85432\tvalidation_0-merror:0.40678\tvalidation_0-mlogloss:1.08497\n",
            "[40]\tvalidation_0-auc:0.85571\tvalidation_0-merror:0.40678\tvalidation_0-mlogloss:1.09786\n",
            "[45]\tvalidation_0-auc:0.85863\tvalidation_0-merror:0.40678\tvalidation_0-mlogloss:1.10882\n",
            "[50]\tvalidation_0-auc:0.85786\tvalidation_0-merror:0.40678\tvalidation_0-mlogloss:1.12034\n",
            "[55]\tvalidation_0-auc:0.85898\tvalidation_0-merror:0.40678\tvalidation_0-mlogloss:1.12919\n",
            "[60]\tvalidation_0-auc:0.85794\tvalidation_0-merror:0.40678\tvalidation_0-mlogloss:1.13500\n",
            "[65]\tvalidation_0-auc:0.85959\tvalidation_0-merror:0.40678\tvalidation_0-mlogloss:1.14411\n",
            "[70]\tvalidation_0-auc:0.85959\tvalidation_0-merror:0.40678\tvalidation_0-mlogloss:1.15228\n",
            "[75]\tvalidation_0-auc:0.85994\tvalidation_0-merror:0.40678\tvalidation_0-mlogloss:1.15797\n",
            "[80]\tvalidation_0-auc:0.86232\tvalidation_0-merror:0.38983\tvalidation_0-mlogloss:1.16196\n",
            "[85]\tvalidation_0-auc:0.86259\tvalidation_0-merror:0.37288\tvalidation_0-mlogloss:1.16271\n",
            "[90]\tvalidation_0-auc:0.86371\tvalidation_0-merror:0.35593\tvalidation_0-mlogloss:1.16818\n",
            "[95]\tvalidation_0-auc:0.86655\tvalidation_0-merror:0.35593\tvalidation_0-mlogloss:1.16649\n",
            "[100]\tvalidation_0-auc:0.86801\tvalidation_0-merror:0.35593\tvalidation_0-mlogloss:1.17262\n",
            "[105]\tvalidation_0-auc:0.86682\tvalidation_0-merror:0.35593\tvalidation_0-mlogloss:1.17659\n",
            "[110]\tvalidation_0-auc:0.86786\tvalidation_0-merror:0.35593\tvalidation_0-mlogloss:1.17988\n",
            "[115]\tvalidation_0-auc:0.86751\tvalidation_0-merror:0.35593\tvalidation_0-mlogloss:1.18563\n",
            "[120]\tvalidation_0-auc:0.86751\tvalidation_0-merror:0.35593\tvalidation_0-mlogloss:1.18854\n",
            "[125]\tvalidation_0-auc:0.86828\tvalidation_0-merror:0.35593\tvalidation_0-mlogloss:1.19307\n",
            "[130]\tvalidation_0-auc:0.86932\tvalidation_0-merror:0.35593\tvalidation_0-mlogloss:1.19691\n",
            "[135]\tvalidation_0-auc:0.86932\tvalidation_0-merror:0.35593\tvalidation_0-mlogloss:1.20128\n",
            "[140]\tvalidation_0-auc:0.87078\tvalidation_0-merror:0.33898\tvalidation_0-mlogloss:1.20154\n",
            "[145]\tvalidation_0-auc:0.87155\tvalidation_0-merror:0.33898\tvalidation_0-mlogloss:1.20281\n",
            "[150]\tvalidation_0-auc:0.87155\tvalidation_0-merror:0.33898\tvalidation_0-mlogloss:1.20646\n",
            "[155]\tvalidation_0-auc:0.87155\tvalidation_0-merror:0.33898\tvalidation_0-mlogloss:1.21006\n",
            "[160]\tvalidation_0-auc:0.87155\tvalidation_0-merror:0.33898\tvalidation_0-mlogloss:1.21265\n",
            "[165]\tvalidation_0-auc:0.87301\tvalidation_0-merror:0.33898\tvalidation_0-mlogloss:1.21390\n",
            "[170]\tvalidation_0-auc:0.87336\tvalidation_0-merror:0.33898\tvalidation_0-mlogloss:1.21525\n",
            "[175]\tvalidation_0-auc:0.87267\tvalidation_0-merror:0.33898\tvalidation_0-mlogloss:1.22093\n",
            "[180]\tvalidation_0-auc:0.87336\tvalidation_0-merror:0.33898\tvalidation_0-mlogloss:1.22373\n",
            "[185]\tvalidation_0-auc:0.87405\tvalidation_0-merror:0.33898\tvalidation_0-mlogloss:1.22726\n",
            "[190]\tvalidation_0-auc:0.87336\tvalidation_0-merror:0.33898\tvalidation_0-mlogloss:1.23278\n",
            "[195]\tvalidation_0-auc:0.87267\tvalidation_0-merror:0.33898\tvalidation_0-mlogloss:1.23451\n",
            "[199]\tvalidation_0-auc:0.87267\tvalidation_0-merror:0.33898\tvalidation_0-mlogloss:1.23674\n",
            "Accuracy: 0.66\n",
            "Report:\n",
            "               precision    recall  f1-score   support\n",
            "\n",
            "           0       0.92      0.63      0.75        19\n",
            "           1       0.54      0.70      0.61        10\n",
            "           2       0.67      0.40      0.50        10\n",
            "           3       0.38      0.60      0.46        10\n",
            "           4       0.91      1.00      0.95        10\n",
            "\n",
            "    accuracy                           0.66        59\n",
            "   macro avg       0.68      0.67      0.65        59\n",
            "weighted avg       0.72      0.66      0.67        59\n",
            "\n"
          ]
        }
      ]
    },
    {
      "cell_type": "code",
      "source": [
        "\n",
        "predictions_proba = xgb_model.predict_proba(X_test)\n",
        "\n",
        "threshold = 0.7\n",
        "for idx, probas in enumerate(predictions_proba):\n",
        "    max_prob = max(probas)\n",
        "    if max_prob < threshold:\n",
        "        print(f\"The voice is not recognized with confidence {max_prob}.\")\n",
        "    else:\n",
        "        pred_label = np.argmax(probas)\n",
        "        print(f\"Sounds are classified as {labelClasses[pred_label]} with confidence {max_prob}.\")\n",
        "\n",
        "predictions = xgb_model.predict(X_test)\n",
        "accuracy = accuracy_score(y_test, predictions)\n",
        "print(f\"Akurasi: {accuracy}\")"
      ],
      "metadata": {
        "colab": {
          "base_uri": "https://localhost:8080/"
        },
        "id": "tWn0u88p6Aml",
        "outputId": "75cbb50f-b38e-4a2f-bd14-fc048a43839c"
      },
      "execution_count": 187,
      "outputs": [
        {
          "output_type": "stream",
          "name": "stdout",
          "text": [
            "Sounds are classified as Healthy with confidence 0.9894590377807617.\n",
            "Sounds are classified as Paralysis with confidence 0.9983121156692505.\n",
            "Sounds are classified as Nodule with confidence 0.8809617757797241.\n",
            "Sounds are classified as Reinke's Edema with confidence 0.9311599731445312.\n",
            "Sounds are classified as Healthy with confidence 0.9692966341972351.\n",
            "Sounds are classified as Healthy with confidence 0.9753153324127197.\n",
            "Sounds are classified as Paralysis with confidence 0.8893008828163147.\n",
            "Sounds are classified as Reinke's Edema with confidence 0.96187424659729.\n",
            "Sounds are classified as Reinke's Edema with confidence 0.894669771194458.\n",
            "The voice is not recognized with confidence 0.42108237743377686.\n",
            "Sounds are classified as Paralysis with confidence 0.9979918003082275.\n",
            "Sounds are classified as Paralysis with confidence 0.9099161624908447.\n",
            "Sounds are classified as Paralysis with confidence 0.992902934551239.\n",
            "Sounds are classified as Reinke's Edema with confidence 0.8400145769119263.\n",
            "Sounds are classified as Paralysis with confidence 0.9962548017501831.\n",
            "The voice is not recognized with confidence 0.6228117346763611.\n",
            "Sounds are classified as Paralysis with confidence 0.9908767342567444.\n",
            "The voice is not recognized with confidence 0.6417689919471741.\n",
            "Sounds are classified as Reinke's Edema with confidence 0.8978348970413208.\n",
            "Sounds are classified as Nodule with confidence 0.7152510285377502.\n",
            "Sounds are classified as Healthy with confidence 0.8536475896835327.\n",
            "The voice is not recognized with confidence 0.5654445290565491.\n",
            "Sounds are classified as Reinke's Edema with confidence 0.9572952389717102.\n",
            "Sounds are classified as Paralysis with confidence 0.9973145127296448.\n",
            "The voice is not recognized with confidence 0.6357917785644531.\n",
            "The voice is not recognized with confidence 0.6356118321418762.\n",
            "The voice is not recognized with confidence 0.6638339161872864.\n",
            "Sounds are classified as Nodule with confidence 0.9934806823730469.\n",
            "Sounds are classified as Paralysis with confidence 0.9951900243759155.\n",
            "Sounds are classified as Nodule with confidence 0.9727715849876404.\n",
            "Sounds are classified as Nodule with confidence 0.9269675016403198.\n",
            "Sounds are classified as Reinke's Edema with confidence 0.9221614003181458.\n",
            "Sounds are classified as Nodule with confidence 0.8583544492721558.\n",
            "Sounds are classified as Nodule with confidence 0.7856829762458801.\n",
            "The voice is not recognized with confidence 0.4785650670528412.\n",
            "The voice is not recognized with confidence 0.5053465962409973.\n",
            "Sounds are classified as Polyps with confidence 0.9170029163360596.\n",
            "Sounds are classified as Healthy with confidence 0.9909052848815918.\n",
            "Sounds are classified as Reinke's Edema with confidence 0.7704163193702698.\n",
            "Sounds are classified as Polyps with confidence 0.8143848776817322.\n",
            "Sounds are classified as Reinke's Edema with confidence 0.7313045263290405.\n",
            "Sounds are classified as Healthy with confidence 0.8489649891853333.\n",
            "Sounds are classified as Healthy with confidence 0.9877802133560181.\n",
            "The voice is not recognized with confidence 0.4306046664714813.\n",
            "Sounds are classified as Healthy with confidence 0.9811913371086121.\n",
            "Sounds are classified as Healthy with confidence 0.8856337070465088.\n",
            "Sounds are classified as Nodule with confidence 0.7095050811767578.\n",
            "Sounds are classified as Nodule with confidence 0.7560006976127625.\n",
            "Sounds are classified as Reinke's Edema with confidence 0.9633816480636597.\n",
            "Sounds are classified as Healthy with confidence 0.799040675163269.\n",
            "The voice is not recognized with confidence 0.5070611238479614.\n",
            "The voice is not recognized with confidence 0.505552351474762.\n",
            "Sounds are classified as Reinke's Edema with confidence 0.9731850624084473.\n",
            "Sounds are classified as Nodule with confidence 0.9891253709793091.\n",
            "The voice is not recognized with confidence 0.5031048059463501.\n",
            "Sounds are classified as Healthy with confidence 0.9666448831558228.\n",
            "Sounds are classified as Healthy with confidence 0.805688738822937.\n",
            "The voice is not recognized with confidence 0.6742222905158997.\n",
            "Sounds are classified as Paralysis with confidence 0.9991434812545776.\n",
            "Akurasi: 0.6610169491525424\n"
          ]
        }
      ]
    },
    {
      "cell_type": "code",
      "source": [
        "conf_matrix = confusion_matrix(y_test, xgb_predict_labels)\n",
        "\n",
        "plt.figure(figsize=(8, 6))\n",
        "sns.heatmap(conf_matrix, annot=True, fmt='d', cmap='Blues', xticklabels=labelClasses, yticklabels=labelClasses)\n",
        "plt.xlabel('Predicted Label')\n",
        "plt.ylabel('True Label')\n",
        "plt.title('Confusion Matrix')\n",
        "plt.show()\n",
        "\n",
        "xgb_df = pd.DataFrame({'y_Actual':y_test, 'y_Predicted':xgb_predict_labels})\n",
        "\n",
        "xgb_model.save_model('xgboost_model.json')\n",
        "\n",
        "xgb_model.load_model('xgboost_model.json')\n",
        "\n",
        "xgb_result = cross_validation(xgb_model, X_test, y_test, 5)\n",
        "xgb_result\n"
      ],
      "metadata": {
        "colab": {
          "base_uri": "https://localhost:8080/",
          "height": 931
        },
        "id": "BsVHHwE2FPCH",
        "outputId": "1a7dd070-22e0-42d9-87a0-fe06107c7fc7"
      },
      "execution_count": 158,
      "outputs": [
        {
          "output_type": "display_data",
          "data": {
            "text/plain": [
              "<Figure size 800x600 with 2 Axes>"
            ],
            "image/png": "[encoded data removed]"
          },
          "metadata": {}
        },
        {
          "output_type": "stream",
          "name": "stderr",
          "text": [
            "/usr/local/lib/python3.10/dist-packages/sklearn/metrics/_classification.py:1344: UndefinedMetricWarning: Precision is ill-defined and being set to 0.0 in labels with no predicted samples. Use `zero_division` parameter to control this behavior.\n",
            "  _warn_prf(average, modifier, msg_start, len(result))\n",
            "/usr/local/lib/python3.10/dist-packages/sklearn/metrics/_classification.py:1344: UndefinedMetricWarning: Precision is ill-defined and being set to 0.0 in labels with no predicted samples. Use `zero_division` parameter to control this behavior.\n",
            "  _warn_prf(average, modifier, msg_start, len(result))\n"
          ]
        },
        {
          "output_type": "execute_result",
          "data": {
            "text/plain": [
              "{'Training Accuracy scores': array([1., 1., 1., 1., 1.]),\n",
              " 'Mean Training Accuracy': 100.0,\n",
              " 'Training Precision scores': 0.7191636047568252,\n",
              " 'Mean Training Precision': 0.7191636047568252,\n",
              " 'Training Recall scores': 0.6610169491525424,\n",
              " 'Mean Training Recall': 0.6610169491525424,\n",
              " 'Training F1 scores': 0.669087299337852,\n",
              " 'Mean Training F1 Score': 0.669087299337852,\n",
              " 'Validation Accuracy scores': array([0.91666667, 0.41666667, 0.41666667, 0.58333333, 0.63636364]),\n",
              " 'Mean Validation Accuracy': 59.3939393939394,\n",
              " 'Validation Precision scores': array([0.94444444, 0.36111111, 0.38333333, 0.52380952, 0.59090909]),\n",
              " 'Mean Validation Precision': 0.5607215007215006,\n",
              " 'Validation Recall scores': array([0.91666667, 0.41666667, 0.41666667, 0.58333333, 0.63636364]),\n",
              " 'Mean Validation Recall': 0.593939393939394,\n",
              " 'Validation F1 scores': array([0.91111111, 0.37857143, 0.39814815, 0.52020202, 0.60606061]),\n",
              " 'Mean Validation F1 Score': 0.5628186628186628}"
            ]
          },
          "metadata": {},
          "execution_count": 158
        }
      ]
    },
    {
      "cell_type": "markdown",
      "source": [
        "**RandomForest**"
      ],
      "metadata": {
        "id": "_VIXvJFyiEkv"
      }
    },
    {
      "cell_type": "code",
      "source": [
        "from sklearn.ensemble import RandomForestClassifier\n",
        "from sklearn import metrics\n",
        "from sklearn.metrics import confusion_matrix\n",
        "import matplotlib.pyplot as plt\n",
        "import seaborn as sns\n",
        "import pandas as pd\n",
        "from sklearn.model_selection import cross_val_score\n",
        "\n",
        "# Create and fit the Random Forest model\n",
        "rfmodel = RandomForestClassifier(n_estimators=100, max_depth=5, random_state=42)\n",
        "rfmodel.fit(X_train, y_train)\n",
        "\n",
        "# Predictions\n",
        "y_pred = rfmodel.predict(X_test)\n",
        "\n",
        "# Evaluate accuracy\n",
        "rf_accuracy = metrics.accuracy_score(y_test, y_pred)\n",
        "print(\"RF Accuracy:\", rf_accuracy)\n",
        "\n",
        "# Confusion Matrix\n",
        "conf_matrix = confusion_matrix(y_test, y_pred)\n",
        "\n",
        "# Plot Confusion Matrix\n",
        "plt.figure(figsize=(8, 6))\n",
        "sns.heatmap(conf_matrix, annot=True, fmt='d', cmap='Blues', xticklabels=labelClasses, yticklabels=labelClasses)\n",
        "plt.xlabel('Predicted Label')\n",
        "plt.ylabel('True Label')\n",
        "plt.title('Confusion Matrix')\n",
        "plt.show()\n",
        "\n",
        "# Cross-validation\n",
        "rfscore = cross_validation(rfmodel, X_test, y_test)\n",
        "rfscore\n"
      ],
      "metadata": {
        "colab": {
          "base_uri": "https://localhost:8080/",
          "height": 914
        },
        "id": "oKOs3AARg1q2",
        "outputId": "b3356524-b837-4fa6-ddcb-ae47e73855bd"
      },
      "execution_count": 159,
      "outputs": [
        {
          "output_type": "stream",
          "name": "stdout",
          "text": [
            "RF Accuracy: 0.6440677966101694\n"
          ]
        },
        {
          "output_type": "display_data",
          "data": {
            "text/plain": [
              "<Figure size 800x600 with 2 Axes>"
            ],
            "image/png": "[encoded data removed]"
          },
          "metadata": {}
        },
        {
          "output_type": "stream",
          "name": "stderr",
          "text": [
            "/usr/local/lib/python3.10/dist-packages/sklearn/metrics/_classification.py:1344: UndefinedMetricWarning: Precision is ill-defined and being set to 0.0 in labels with no predicted samples. Use `zero_division` parameter to control this behavior.\n",
            "  _warn_prf(average, modifier, msg_start, len(result))\n"
          ]
        },
        {
          "output_type": "execute_result",
          "data": {
            "text/plain": [
              "{'Training Accuracy scores': array([1., 1., 1., 1., 1.]),\n",
              " 'Mean Training Accuracy': 100.0,\n",
              " 'Training Precision scores': 0.7092413236481033,\n",
              " 'Mean Training Precision': 0.7092413236481033,\n",
              " 'Training Recall scores': 0.6440677966101694,\n",
              " 'Mean Training Recall': 0.6440677966101694,\n",
              " 'Training F1 scores': 0.6437944231820667,\n",
              " 'Mean Training F1 Score': 0.6437944231820667,\n",
              " 'Validation Accuracy scores': array([0.58333333, 0.58333333, 0.5       , 0.66666667, 0.72727273]),\n",
              " 'Mean Validation Accuracy': 61.212121212121204,\n",
              " 'Validation Precision scores': array([0.57222222, 0.58333333, 0.44444444, 0.61111111, 0.78787879]),\n",
              " 'Mean Validation Precision': 0.5997979797979799,\n",
              " 'Validation Recall scores': array([0.58333333, 0.58333333, 0.5       , 0.66666667, 0.72727273]),\n",
              " 'Mean Validation Recall': 0.6121212121212121,\n",
              " 'Validation F1 scores': array([0.55740741, 0.58333333, 0.46666667, 0.61111111, 0.74545455]),\n",
              " 'Mean Validation F1 Score': 0.5927946127946127}"
            ]
          },
          "metadata": {},
          "execution_count": 159
        }
      ]
    },
    {
      "cell_type": "markdown",
      "source": [
        "**SVM**"
      ],
      "metadata": {
        "id": "FIJy-KPWiNAe"
      }
    },
    {
      "cell_type": "code",
      "source": [
        "from sklearn.pipeline import make_pipeline\n",
        "from sklearn.preprocessing import StandardScaler\n",
        "from sklearn.svm import SVC\n",
        "from sklearn.metrics import accuracy_score, confusion_matrix\n",
        "import matplotlib.pyplot as plt\n",
        "import seaborn as sns\n",
        "import pandas as pd\n",
        "from sklearn import metrics\n",
        "from sklearn.model_selection import cross_val_score\n",
        "\n",
        "# Create and fit the SVM model\n",
        "clf = make_pipeline(StandardScaler(), SVC(gamma='auto'))\n",
        "clf.fit(X_train, y_train)\n",
        "\n",
        "# Predictions\n",
        "y_pr = clf.predict(X_test)\n",
        "\n",
        "# Evaluate accuracy\n",
        "svm_accuracy = accuracy_score(y_test, y_pr)\n",
        "print(\"Accuracy:\", svm_accuracy)\n",
        "\n",
        "# Confusion Matrix\n",
        "conf_matrix = confusion_matrix(y_test, y_pr)\n",
        "\n",
        "# Plot Confusion Matrix\n",
        "plt.figure(figsize=(8, 6))\n",
        "sns.heatmap(conf_matrix, annot=True, fmt='d', cmap='Blues', xticklabels=labelClasses, yticklabels=labelClasses)\n",
        "plt.xlabel('Predicted Label')\n",
        "plt.ylabel('True Label')\n",
        "plt.title('Confusion Matrix')\n",
        "plt.show()\n",
        "\n",
        "# Cross-validation\n",
        "svmscore = cross_validation(clf, X_test, y_test)\n",
        "svmscore"
      ],
      "metadata": {
        "colab": {
          "base_uri": "https://localhost:8080/",
          "height": 1000
        },
        "id": "6WUTOg8ShCfO",
        "outputId": "ae0af685-514d-40c4-d224-db82daf6715f"
      },
      "execution_count": 160,
      "outputs": [
        {
          "output_type": "stream",
          "name": "stdout",
          "text": [
            "Accuracy: 0.576271186440678\n"
          ]
        },
        {
          "output_type": "display_data",
          "data": {
            "text/plain": [
              "<Figure size 800x600 with 2 Axes>"
            ],
            "image/png": "[encoded data removed]"
          },
          "metadata": {}
        },
        {
          "output_type": "stream",
          "name": "stderr",
          "text": [
            "/usr/local/lib/python3.10/dist-packages/sklearn/metrics/_classification.py:1344: UndefinedMetricWarning: Precision is ill-defined and being set to 0.0 in labels with no predicted samples. Use `zero_division` parameter to control this behavior.\n",
            "  _warn_prf(average, modifier, msg_start, len(result))\n",
            "/usr/local/lib/python3.10/dist-packages/sklearn/metrics/_classification.py:1344: UndefinedMetricWarning: Precision is ill-defined and being set to 0.0 in labels with no predicted samples. Use `zero_division` parameter to control this behavior.\n",
            "  _warn_prf(average, modifier, msg_start, len(result))\n",
            "/usr/local/lib/python3.10/dist-packages/sklearn/metrics/_classification.py:1344: UndefinedMetricWarning: Precision is ill-defined and being set to 0.0 in labels with no predicted samples. Use `zero_division` parameter to control this behavior.\n",
            "  _warn_prf(average, modifier, msg_start, len(result))\n",
            "/usr/local/lib/python3.10/dist-packages/sklearn/metrics/_classification.py:1344: UndefinedMetricWarning: Precision is ill-defined and being set to 0.0 in labels with no predicted samples. Use `zero_division` parameter to control this behavior.\n",
            "  _warn_prf(average, modifier, msg_start, len(result))\n",
            "/usr/local/lib/python3.10/dist-packages/sklearn/metrics/_classification.py:1344: UndefinedMetricWarning: Precision is ill-defined and being set to 0.0 in labels with no predicted samples. Use `zero_division` parameter to control this behavior.\n",
            "  _warn_prf(average, modifier, msg_start, len(result))\n",
            "/usr/local/lib/python3.10/dist-packages/sklearn/metrics/_classification.py:1344: UndefinedMetricWarning: Precision is ill-defined and being set to 0.0 in labels with no predicted samples. Use `zero_division` parameter to control this behavior.\n",
            "  _warn_prf(average, modifier, msg_start, len(result))\n",
            "/usr/local/lib/python3.10/dist-packages/sklearn/metrics/_classification.py:1344: UndefinedMetricWarning: Precision is ill-defined and being set to 0.0 in labels with no predicted samples. Use `zero_division` parameter to control this behavior.\n",
            "  _warn_prf(average, modifier, msg_start, len(result))\n",
            "/usr/local/lib/python3.10/dist-packages/sklearn/metrics/_classification.py:1344: UndefinedMetricWarning: Precision is ill-defined and being set to 0.0 in labels with no predicted samples. Use `zero_division` parameter to control this behavior.\n",
            "  _warn_prf(average, modifier, msg_start, len(result))\n"
          ]
        },
        {
          "output_type": "execute_result",
          "data": {
            "text/plain": [
              "{'Training Accuracy scores': array([0.68085106, 0.68085106, 0.61702128, 0.72340426, 0.625     ]),\n",
              " 'Mean Training Accuracy': 66.54255319148936,\n",
              " 'Training Precision scores': 0.6464891041162227,\n",
              " 'Mean Training Precision': 0.6464891041162227,\n",
              " 'Training Recall scores': 0.576271186440678,\n",
              " 'Mean Training Recall': 0.576271186440678,\n",
              " 'Training F1 scores': 0.5764450239026511,\n",
              " 'Mean Training F1 Score': 0.5764450239026511,\n",
              " 'Validation Accuracy scores': array([0.58333333, 0.41666667, 0.5       , 0.58333333, 0.54545455]),\n",
              " 'Mean Validation Accuracy': 52.57575757575758,\n",
              " 'Validation Precision scores': array([0.44047619, 0.29166667, 0.39880952, 0.38888889, 0.4969697 ]),\n",
              " 'Mean Validation Precision': 0.40336219336219337,\n",
              " 'Validation Recall scores': array([0.58333333, 0.41666667, 0.5       , 0.58333333, 0.54545455]),\n",
              " 'Mean Validation Recall': 0.5257575757575758,\n",
              " 'Validation F1 scores': array([0.46464646, 0.33888889, 0.40909091, 0.46111111, 0.48939394]),\n",
              " 'Mean Validation F1 Score': 0.4326262626262626}"
            ]
          },
          "metadata": {},
          "execution_count": 160
        }
      ]
    },
    {
      "cell_type": "markdown",
      "source": [
        "**ANN**"
      ],
      "metadata": {
        "id": "nRKumT_PiO2H"
      }
    },
    {
      "cell_type": "code",
      "source": [
        "import numpy as np\n",
        "from keras.models import Sequential\n",
        "from keras.layers import Dense\n",
        "from sklearn.metrics import accuracy_score, confusion_matrix\n",
        "import matplotlib.pyplot as plt\n",
        "import seaborn as sns\n",
        "import pandas as pd\n",
        "from keras.utils import to_categorical\n",
        "from sklearn import metrics\n",
        "\n",
        "classifier = Sequential()\n",
        "classifier.add(Dense(units=8, input_dim=16, kernel_initializer='uniform', activation='relu'))\n",
        "classifier.add(Dense(units=7, kernel_initializer='uniform', activation='relu'))\n",
        "classifier.add(Dense(units=5, kernel_initializer='uniform', activation='relu'))  # Use softmax for multi-class\n",
        "classifier.add(Dense(units=5, kernel_initializer='uniform', activation='softmax'))  # Output layer with softmax\n",
        "\n",
        "# Use categorical_crossentropy for multi-class classification\n",
        "classifier.compile(optimizer='adam', loss='categorical_crossentropy', metrics=['accuracy'])\n",
        "\n",
        "# fitting the Neural Network on the training data\n",
        "classifier.fit(X_train, to_categorical(y_train, num_classes=5), batch_size=5, epochs=25, verbose=1)\n",
        "\n",
        "# Predictions\n",
        "ann_prediction = classifier.predict(X_test)\n",
        "y_ann_pre = np.argmax(ann_prediction, axis=1)  # Convert softmax output to class labels\n",
        "\n",
        "ann_df = pd.DataFrame({'y_Actual': y_test, 'y_Predicted': y_ann_pre})\n",
        "\n",
        "# Accuracy\n",
        "ann_accuracy = accuracy_score(ann_df['y_Actual'].tolist(), ann_df['y_Predicted'].tolist())\n",
        "print(\"ANN Accuracy:\", ann_accuracy)\n",
        "\n",
        "# Confusion Matrix\n",
        "conf_matrix = confusion_matrix(y_test, y_ann_pre)\n",
        "\n",
        "# Plot Confusion Matrix\n",
        "plt.figure(figsize=(8, 6))\n",
        "sns.heatmap(conf_matrix, annot=True, fmt='d', cmap='Blues', xticklabels=labelClasses, yticklabels=labelClasses)\n",
        "plt.xlabel('Predicted Label')\n",
        "plt.ylabel('True Label')\n",
        "plt.title('Confusion Matrix')\n",
        "plt.show()"
      ],
      "metadata": {
        "colab": {
          "base_uri": "https://localhost:8080/",
          "height": 1000
        },
        "id": "V7VGJ7AOhLuH",
        "outputId": "46575e0b-5cf5-4165-923c-65d5020d01b8"
      },
      "execution_count": 161,
      "outputs": [
        {
          "output_type": "stream",
          "name": "stdout",
          "text": [
            "Epoch 1/25\n",
            "47/47 [==============================] - 1s 3ms/step - loss: 1.6093 - accuracy: 0.2103\n",
            "Epoch 2/25\n",
            "47/47 [==============================] - 0s 3ms/step - loss: 1.6051 - accuracy: 0.2532\n",
            "Epoch 3/25\n",
            "47/47 [==============================] - 0s 3ms/step - loss: 1.5901 - accuracy: 0.2532\n",
            "Epoch 4/25\n",
            "47/47 [==============================] - 0s 2ms/step - loss: 1.5699 - accuracy: 0.2532\n",
            "Epoch 5/25\n",
            "47/47 [==============================] - 0s 3ms/step - loss: 1.5462 - accuracy: 0.2790\n",
            "Epoch 6/25\n",
            "47/47 [==============================] - 0s 2ms/step - loss: 1.5117 - accuracy: 0.3348\n",
            "Epoch 7/25\n",
            "47/47 [==============================] - 0s 2ms/step - loss: 1.4758 - accuracy: 0.3348\n",
            "Epoch 8/25\n",
            "47/47 [==============================] - 0s 2ms/step - loss: 1.4561 - accuracy: 0.3305\n",
            "Epoch 9/25\n",
            "47/47 [==============================] - 0s 2ms/step - loss: 1.4278 - accuracy: 0.3648\n",
            "Epoch 10/25\n",
            "47/47 [==============================] - 0s 3ms/step - loss: 1.4223 - accuracy: 0.3605\n",
            "Epoch 11/25\n",
            "47/47 [==============================] - 0s 3ms/step - loss: 1.4236 - accuracy: 0.3605\n",
            "Epoch 12/25\n",
            "47/47 [==============================] - 0s 2ms/step - loss: 1.4192 - accuracy: 0.3476\n",
            "Epoch 13/25\n",
            "47/47 [==============================] - 0s 3ms/step - loss: 1.4159 - accuracy: 0.3519\n",
            "Epoch 14/25\n",
            "47/47 [==============================] - 0s 3ms/step - loss: 1.4034 - accuracy: 0.3476\n",
            "Epoch 15/25\n",
            "47/47 [==============================] - 0s 2ms/step - loss: 1.3948 - accuracy: 0.3691\n",
            "Epoch 16/25\n",
            "47/47 [==============================] - 0s 3ms/step - loss: 1.3923 - accuracy: 0.3605\n",
            "Epoch 17/25\n",
            "47/47 [==============================] - 0s 3ms/step - loss: 1.3893 - accuracy: 0.3777\n",
            "Epoch 18/25\n",
            "47/47 [==============================] - 0s 3ms/step - loss: 1.4030 - accuracy: 0.3648\n",
            "Epoch 19/25\n",
            "47/47 [==============================] - 0s 2ms/step - loss: 1.3826 - accuracy: 0.3648\n",
            "Epoch 20/25\n",
            "47/47 [==============================] - 0s 3ms/step - loss: 1.3778 - accuracy: 0.3777\n",
            "Epoch 21/25\n",
            "47/47 [==============================] - 0s 2ms/step - loss: 1.3916 - accuracy: 0.3777\n",
            "Epoch 22/25\n",
            "47/47 [==============================] - 0s 2ms/step - loss: 1.3799 - accuracy: 0.4034\n",
            "Epoch 23/25\n",
            "47/47 [==============================] - 0s 2ms/step - loss: 1.3860 - accuracy: 0.3734\n",
            "Epoch 24/25\n",
            "47/47 [==============================] - 0s 2ms/step - loss: 1.3882 - accuracy: 0.4077\n",
            "Epoch 25/25\n",
            "47/47 [==============================] - 0s 2ms/step - loss: 1.3871 - accuracy: 0.3906\n",
            "2/2 [==============================] - 0s 6ms/step\n",
            "ANN Accuracy: 0.288135593220339\n"
          ]
        },
        {
          "output_type": "display_data",
          "data": {
            "text/plain": [
              "<Figure size 800x600 with 2 Axes>"
            ],
            "image/png": "[encoded data removed]"
          },
          "metadata": {}
        }
      ]
    },
    {
      "cell_type": "markdown",
      "source": [
        "# **Evaluation**"
      ],
      "metadata": {
        "id": "STe6MurHovzz"
      }
    },
    {
      "cell_type": "code",
      "source": [
        "print(f'XGBoost Accuracy: {xgb_accuracy:.2f}')\n",
        "print(f'RF Accuracy: {rf_accuracy:.2f}')\n",
        "print(f'SVM Accuracy: {svm_accuracy:.2f}')\n",
        "print(f'ANN Accuracy: {ann_accuracy:.2f}')"
      ],
      "metadata": {
        "colab": {
          "base_uri": "https://localhost:8080/"
        },
        "id": "UydYW-N3jz8V",
        "outputId": "b30e7068-1e51-4837-8abf-462d03ae2cf4"
      },
      "execution_count": 162,
      "outputs": [
        {
          "output_type": "stream",
          "name": "stdout",
          "text": [
            "XGBoost Accuracy: 0.66\n",
            "RF Accuracy: 0.64\n",
            "SVM Accuracy: 0.58\n",
            "ANN Accuracy: 0.29\n"
          ]
        }
      ]
    },
    {
      "cell_type": "code",
      "source": [
        "import plotly.express as px\n",
        "\n",
        "acc_df = pd.DataFrame({'method':['XGB',\n",
        "                                'RF',\n",
        "                                'SVM',\n",
        "                                'ANN'],\n",
        "                       'Acc':[xgb_accuracy, rf_accuracy, svm_accuracy, ann_accuracy]})\n",
        "fig = px.line(acc_df, x=\"method\", y=\"Acc\", title='Accuracy of Models')\n",
        "fig.show()"
      ],
      "metadata": {
        "colab": {
          "base_uri": "https://localhost:8080/",
          "height": 542
        },
        "id": "4-roD3EbkGZ0",
        "outputId": "e20de17f-e1ba-44de-d0a5-26211dbbd080"
      },
      "execution_count": 163,
      "outputs": [
        {
          "output_type": "display_data",
          "data": {
            "text/html": [
              "<html>\n",
              "<head><meta charset=\"utf-8\" /></head>\n",
              "<body>\n",
              "    <div>            <script src=\"https://cdnjs.cloudflare.com/ajax/libs/mathjax/2.7.5/MathJax.js?config=TeX-AMS-MML_SVG\"></script><script type=\"text/javascript\">if (window.MathJax && window.MathJax.Hub && window.MathJax.Hub.Config) {window.MathJax.Hub.Config({SVG: {font: \"STIX-Web\"}});}</script>                <script type=\"text/javascript\">window.PlotlyConfig = {MathJaxConfig: 'local'};</script>\n",
              "        <script charset=\"utf-8\" src=\"https://cdn.plot.ly/plotly-2.24.1.min.js\"></script>                <div id=\"4f094d35-1f7f-447c-b409-38b2c49442e3\" class=\"plotly-graph-div\" style=\"height:525px; width:100%;\"></div>            <script type=\"text/javascript\">                                    window.PLOTLYENV=window.PLOTLYENV || {};                                    if (document.getElementById(\"4f094d35-1f7f-447c-b409-38b2c49442e3\")) {                    Plotly.newPlot(                        \"4f094d35-1f7f-447c-b409-38b2c49442e3\",                        [{\"hovertemplate\":\"method=%{x}\\u003cbr\\u003eAcc=%{y}\\u003cextra\\u003e\\u003c\\u002fextra\\u003e\",\"legendgroup\":\"\",\"line\":{\"color\":\"#636efa\",\"dash\":\"solid\"},\"marker\":{\"symbol\":\"circle\"},\"mode\":\"lines\",\"name\":\"\",\"orientation\":\"v\",\"showlegend\":false,\"x\":[\"XGB\",\"RF\",\"SVM\",\"ANN\"],\"xaxis\":\"x\",\"y\":[0.6610169491525424,0.6440677966101694,0.576271186440678,0.288135593220339],\"yaxis\":\"y\",\"type\":\"scatter\"}],                        {\"template\":{\"data\":{\"histogram2dcontour\":[{\"type\":\"histogram2dcontour\",\"colorbar\":{\"outlinewidth\":0,\"ticks\":\"\"},\"colorscale\":[[0.0,\"#0d0887\"],[0.1111111111111111,\"#46039f\"],[0.2222222222222222,\"#7201a8\"],[0.3333333333333333,\"#9c179e\"],[0.4444444444444444,\"#bd3786\"],[0.5555555555555556,\"#d8576b\"],[0.6666666666666666,\"#ed7953\"],[0.7777777777777778,\"#fb9f3a\"],[0.8888888888888888,\"#fdca26\"],[1.0,\"#f0f921\"]]}],\"choropleth\":[{\"type\":\"choropleth\",\"colorbar\":{\"outlinewidth\":0,\"ticks\":\"\"}}],\"histogram2d\":[{\"type\":\"histogram2d\",\"colorbar\":{\"outlinewidth\":0,\"ticks\":\"\"},\"colorscale\":[[0.0,\"#0d0887\"],[0.1111111111111111,\"#46039f\"],[0.2222222222222222,\"#7201a8\"],[0.3333333333333333,\"#9c179e\"],[0.4444444444444444,\"#bd3786\"],[0.5555555555555556,\"#d8576b\"],[0.6666666666666666,\"#ed7953\"],[0.7777777777777778,\"#fb9f3a\"],[0.8888888888888888,\"#fdca26\"],[1.0,\"#f0f921\"]]}],\"heatmap\":[{\"type\":\"heatmap\",\"colorbar\":{\"outlinewidth\":0,\"ticks\":\"\"},\"colorscale\":[[0.0,\"#0d0887\"],[0.1111111111111111,\"#46039f\"],[0.2222222222222222,\"#7201a8\"],[0.3333333333333333,\"#9c179e\"],[0.4444444444444444,\"#bd3786\"],[0.5555555555555556,\"#d8576b\"],[0.6666666666666666,\"#ed7953\"],[0.7777777777777778,\"#fb9f3a\"],[0.8888888888888888,\"#fdca26\"],[1.0,\"#f0f921\"]]}],\"heatmapgl\":[{\"type\":\"heatmapgl\",\"colorbar\":{\"outlinewidth\":0,\"ticks\":\"\"},\"colorscale\":[[0.0,\"#0d0887\"],[0.1111111111111111,\"#46039f\"],[0.2222222222222222,\"#7201a8\"],[0.3333333333333333,\"#9c179e\"],[0.4444444444444444,\"#bd3786\"],[0.5555555555555556,\"#d8576b\"],[0.6666666666666666,\"#ed7953\"],[0.7777777777777778,\"#fb9f3a\"],[0.8888888888888888,\"#fdca26\"],[1.0,\"#f0f921\"]]}],\"contourcarpet\":[{\"type\":\"contourcarpet\",\"colorbar\":{\"outlinewidth\":0,\"ticks\":\"\"}}],\"contour\":[{\"type\":\"contour\",\"colorbar\":{\"outlinewidth\":0,\"ticks\":\"\"},\"colorscale\":[[0.0,\"#0d0887\"],[0.1111111111111111,\"#46039f\"],[0.2222222222222222,\"#7201a8\"],[0.3333333333333333,\"#9c179e\"],[0.4444444444444444,\"#bd3786\"],[0.5555555555555556,\"#d8576b\"],[0.6666666666666666,\"#ed7953\"],[0.7777777777777778,\"#fb9f3a\"],[0.8888888888888888,\"#fdca26\"],[1.0,\"#f0f921\"]]}],\"surface\":[{\"type\":\"surface\",\"colorbar\":{\"outlinewidth\":0,\"ticks\":\"\"},\"colorscale\":[[0.0,\"#0d0887\"],[0.1111111111111111,\"#46039f\"],[0.2222222222222222,\"#7201a8\"],[0.3333333333333333,\"#9c179e\"],[0.4444444444444444,\"#bd3786\"],[0.5555555555555556,\"#d8576b\"],[0.6666666666666666,\"#ed7953\"],[0.7777777777777778,\"#fb9f3a\"],[0.8888888888888888,\"#fdca26\"],[1.0,\"#f0f921\"]]}],\"mesh3d\":[{\"type\":\"mesh3d\",\"colorbar\":{\"outlinewidth\":0,\"ticks\":\"\"}}],\"scatter\":[{\"fillpattern\":{\"fillmode\":\"overlay\",\"size\":10,\"solidity\":0.2},\"type\":\"scatter\"}],\"parcoords\":[{\"type\":\"parcoords\",\"line\":{\"colorbar\":{\"outlinewidth\":0,\"ticks\":\"\"}}}],\"scatterpolargl\":[{\"type\":\"scatterpolargl\",\"marker\":{\"colorbar\":{\"outlinewidth\":0,\"ticks\":\"\"}}}],\"bar\":[{\"error_x\":{\"color\":\"#2a3f5f\"},\"error_y\":{\"color\":\"#2a3f5f\"},\"marker\":{\"line\":{\"color\":\"#E5ECF6\",\"width\":0.5},\"pattern\":{\"fillmode\":\"overlay\",\"size\":10,\"solidity\":0.2}},\"type\":\"bar\"}],\"scattergeo\":[{\"type\":\"scattergeo\",\"marker\":{\"colorbar\":{\"outlinewidth\":0,\"ticks\":\"\"}}}],\"scatterpolar\":[{\"type\":\"scatterpolar\",\"marker\":{\"colorbar\":{\"outlinewidth\":0,\"ticks\":\"\"}}}],\"histogram\":[{\"marker\":{\"pattern\":{\"fillmode\":\"overlay\",\"size\":10,\"solidity\":0.2}},\"type\":\"histogram\"}],\"scattergl\":[{\"type\":\"scattergl\",\"marker\":{\"colorbar\":{\"outlinewidth\":0,\"ticks\":\"\"}}}],\"scatter3d\":[{\"type\":\"scatter3d\",\"line\":{\"colorbar\":{\"outlinewidth\":0,\"ticks\":\"\"}},\"marker\":{\"colorbar\":{\"outlinewidth\":0,\"ticks\":\"\"}}}],\"scattermapbox\":[{\"type\":\"scattermapbox\",\"marker\":{\"colorbar\":{\"outlinewidth\":0,\"ticks\":\"\"}}}],\"scatterternary\":[{\"type\":\"scatterternary\",\"marker\":{\"colorbar\":{\"outlinewidth\":0,\"ticks\":\"\"}}}],\"scattercarpet\":[{\"type\":\"scattercarpet\",\"marker\":{\"colorbar\":{\"outlinewidth\":0,\"ticks\":\"\"}}}],\"carpet\":[{\"aaxis\":{\"endlinecolor\":\"#2a3f5f\",\"gridcolor\":\"white\",\"linecolor\":\"white\",\"minorgridcolor\":\"white\",\"startlinecolor\":\"#2a3f5f\"},\"baxis\":{\"endlinecolor\":\"#2a3f5f\",\"gridcolor\":\"white\",\"linecolor\":\"white\",\"minorgridcolor\":\"white\",\"startlinecolor\":\"#2a3f5f\"},\"type\":\"carpet\"}],\"table\":[{\"cells\":{\"fill\":{\"color\":\"#EBF0F8\"},\"line\":{\"color\":\"white\"}},\"header\":{\"fill\":{\"color\":\"#C8D4E3\"},\"line\":{\"color\":\"white\"}},\"type\":\"table\"}],\"barpolar\":[{\"marker\":{\"line\":{\"color\":\"#E5ECF6\",\"width\":0.5},\"pattern\":{\"fillmode\":\"overlay\",\"size\":10,\"solidity\":0.2}},\"type\":\"barpolar\"}],\"pie\":[{\"automargin\":true,\"type\":\"pie\"}]},\"layout\":{\"autotypenumbers\":\"strict\",\"colorway\":[\"#636efa\",\"#EF553B\",\"#00cc96\",\"#ab63fa\",\"#FFA15A\",\"#19d3f3\",\"#FF6692\",\"#B6E880\",\"#FF97FF\",\"#FECB52\"],\"font\":{\"color\":\"#2a3f5f\"},\"hovermode\":\"closest\",\"hoverlabel\":{\"align\":\"left\"},\"paper_bgcolor\":\"white\",\"plot_bgcolor\":\"#E5ECF6\",\"polar\":{\"bgcolor\":\"#E5ECF6\",\"angularaxis\":{\"gridcolor\":\"white\",\"linecolor\":\"white\",\"ticks\":\"\"},\"radialaxis\":{\"gridcolor\":\"white\",\"linecolor\":\"white\",\"ticks\":\"\"}},\"ternary\":{\"bgcolor\":\"#E5ECF6\",\"aaxis\":{\"gridcolor\":\"white\",\"linecolor\":\"white\",\"ticks\":\"\"},\"baxis\":{\"gridcolor\":\"white\",\"linecolor\":\"white\",\"ticks\":\"\"},\"caxis\":{\"gridcolor\":\"white\",\"linecolor\":\"white\",\"ticks\":\"\"}},\"coloraxis\":{\"colorbar\":{\"outlinewidth\":0,\"ticks\":\"\"}},\"colorscale\":{\"sequential\":[[0.0,\"#0d0887\"],[0.1111111111111111,\"#46039f\"],[0.2222222222222222,\"#7201a8\"],[0.3333333333333333,\"#9c179e\"],[0.4444444444444444,\"#bd3786\"],[0.5555555555555556,\"#d8576b\"],[0.6666666666666666,\"#ed7953\"],[0.7777777777777778,\"#fb9f3a\"],[0.8888888888888888,\"#fdca26\"],[1.0,\"#f0f921\"]],\"sequentialminus\":[[0.0,\"#0d0887\"],[0.1111111111111111,\"#46039f\"],[0.2222222222222222,\"#7201a8\"],[0.3333333333333333,\"#9c179e\"],[0.4444444444444444,\"#bd3786\"],[0.5555555555555556,\"#d8576b\"],[0.6666666666666666,\"#ed7953\"],[0.7777777777777778,\"#fb9f3a\"],[0.8888888888888888,\"#fdca26\"],[1.0,\"#f0f921\"]],\"diverging\":[[0,\"#8e0152\"],[0.1,\"#c51b7d\"],[0.2,\"#de77ae\"],[0.3,\"#f1b6da\"],[0.4,\"#fde0ef\"],[0.5,\"#f7f7f7\"],[0.6,\"#e6f5d0\"],[0.7,\"#b8e186\"],[0.8,\"#7fbc41\"],[0.9,\"#4d9221\"],[1,\"#276419\"]]},\"xaxis\":{\"gridcolor\":\"white\",\"linecolor\":\"white\",\"ticks\":\"\",\"title\":{\"standoff\":15},\"zerolinecolor\":\"white\",\"automargin\":true,\"zerolinewidth\":2},\"yaxis\":{\"gridcolor\":\"white\",\"linecolor\":\"white\",\"ticks\":\"\",\"title\":{\"standoff\":15},\"zerolinecolor\":\"white\",\"automargin\":true,\"zerolinewidth\":2},\"scene\":{\"xaxis\":{\"backgroundcolor\":\"#E5ECF6\",\"gridcolor\":\"white\",\"linecolor\":\"white\",\"showbackground\":true,\"ticks\":\"\",\"zerolinecolor\":\"white\",\"gridwidth\":2},\"yaxis\":{\"backgroundcolor\":\"#E5ECF6\",\"gridcolor\":\"white\",\"linecolor\":\"white\",\"showbackground\":true,\"ticks\":\"\",\"zerolinecolor\":\"white\",\"gridwidth\":2},\"zaxis\":{\"backgroundcolor\":\"#E5ECF6\",\"gridcolor\":\"white\",\"linecolor\":\"white\",\"showbackground\":true,\"ticks\":\"\",\"zerolinecolor\":\"white\",\"gridwidth\":2}},\"shapedefaults\":{\"line\":{\"color\":\"#2a3f5f\"}},\"annotationdefaults\":{\"arrowcolor\":\"#2a3f5f\",\"arrowhead\":0,\"arrowwidth\":1},\"geo\":{\"bgcolor\":\"white\",\"landcolor\":\"#E5ECF6\",\"subunitcolor\":\"white\",\"showland\":true,\"showlakes\":true,\"lakecolor\":\"white\"},\"title\":{\"x\":0.05},\"mapbox\":{\"style\":\"light\"}}},\"xaxis\":{\"anchor\":\"y\",\"domain\":[0.0,1.0],\"title\":{\"text\":\"method\"}},\"yaxis\":{\"anchor\":\"x\",\"domain\":[0.0,1.0],\"title\":{\"text\":\"Acc\"}},\"legend\":{\"tracegroupgap\":0},\"title\":{\"text\":\"Accuracy of Models\"}},                        {\"responsive\": true}                    ).then(function(){\n",
              "                            \n",
              "var gd = document.getElementById('4f094d35-1f7f-447c-b409-38b2c49442e3');\n",
              "var x = new MutationObserver(function (mutations, observer) {{\n",
              "        var display = window.getComputedStyle(gd).display;\n",
              "        if (!display || display === 'none') {{\n",
              "            console.log([gd, 'removed!']);\n",
              "            Plotly.purge(gd);\n",
              "            observer.disconnect();\n",
              "        }}\n",
              "}});\n",
              "\n",
              "// Listen for the removal of the full notebook cells\n",
              "var notebookContainer = gd.closest('#notebook-container');\n",
              "if (notebookContainer) {{\n",
              "    x.observe(notebookContainer, {childList: true});\n",
              "}}\n",
              "\n",
              "// Listen for the clearing of the current output cell\n",
              "var outputEl = gd.closest('.output');\n",
              "if (outputEl) {{\n",
              "    x.observe(outputEl, {childList: true});\n",
              "}}\n",
              "\n",
              "                        })                };                            </script>        </div>\n",
              "</body>\n",
              "</html>"
            ]
          },
          "metadata": {}
        }
      ]
    },
    {
      "cell_type": "code",
      "source": [
        "from sklearn.preprocessing import label_binarize\n",
        "from sklearn.metrics import roc_curve, auc\n",
        "\n",
        "def draw_confusionx(df, method='randomforest'):\n",
        "    confusion_matrix = pd.crosstab(df['y_Actual'], df['y_Predicted'], rownames=['Actual'], colnames=['Predicted'])\n",
        "    group_counts = [\"{0:0.0f}\".format(value) for value in confusion_matrix.to_numpy().flatten()]\n",
        "    group_percentages = [\"{0:.2f}\".format(value) for value in (confusion_matrix/np.sum(confusion_matrix)).to_numpy().flatten()]\n",
        "    labels = [f\"{v1}\\n{v2}\\n\" for v1, v2 in zip(group_counts, group_percentages)]\n",
        "    labels = np.asarray(labels).reshape(4,4)\n",
        "    ax = sns.heatmap(confusion_matrix, annot=labels, fmt='', cmap='Blues')\n",
        "    ax.set_xlabel('Predicted label')\n",
        "    ax.set_ylabel('True label')\n",
        "#     plt.title('the Confusion Maxtrix of the {}'.format(config['method']))\n",
        "    plt.savefig('{}_confusion_matrix.pdf'.format(method), bbox_inches = 'tight')\n",
        "    return plt\n",
        "\n",
        "def roc_auc_mean_std(df):\n",
        "    y_test = label_binarize(df['y_Actual'], classes=np.unique(df['y_Actual']))\n",
        "    y_pred = df['y_Predicted'].tolist()\n",
        "\n",
        "    n_classes = y_test.shape[1]\n",
        "\n",
        "    fpr = dict()\n",
        "    tpr = dict()\n",
        "    roc_auc = dict()\n",
        "\n",
        "    aucs = []\n",
        "    tprs = []\n",
        "    fprs = []\n",
        "\n",
        "    for i in range(n_classes):\n",
        "        fpr[i], tpr[i], _ = roc_curve(y_test[:, i], y_pred[i])\n",
        "        roc_auc[i] = auc(fpr[i], tpr[i])\n",
        "        tprs.append(tpr[i])\n",
        "        fprs.append(fpr[i])\n",
        "        aucs.append(roc_auc[i])\n",
        "\n",
        "    mean_tpr = np.mean(tprs, axis=0)\n",
        "    mean_tpr[-1] = 1.0\n",
        "    mean_fpr = np.mean(fprs, axis=0)\n",
        "    mean_fpr[-1] = 1.0\n",
        "    mean_auc = auc(mean_fpr, mean_tpr)\n",
        "    std_auc = np.std(aucs)\n",
        "\n",
        "    return mean_fpr, mean_tpr, mean_auc, std_auc"
      ],
      "metadata": {
        "id": "_hWp26AQkc88"
      },
      "execution_count": 173,
      "outputs": []
    },
    {
      "cell_type": "code",
      "source": [
        "plt.figure()\n",
        "lw = 2\n",
        "alpha = 0.9\n",
        "\n",
        "# roc_xgb_df, roc_randf_df, roc_svm_df, roc_ann_df\n",
        "#xgb_df, rf_df, svm_df, ann_df\n",
        "\n",
        "mean_fpr, mean_tpr, mean_auc, std_auc = roc_auc_mean_std(xgb_df)\n",
        "plt.plot(mean_fpr,\n",
        "         mean_tpr,\n",
        "         label=r\"XGBoost (AUC = %0.2f )\" %(mean_auc),\n",
        "         color=\"navy\",\n",
        "         lw=lw,\n",
        "         alpha=1)\n",
        "\n",
        "mean_fpr, mean_tpr, mean_auc, std_auc = roc_auc_mean_std(rf_df)\n",
        "plt.plot(mean_fpr,\n",
        "         mean_tpr,\n",
        "         label=r\"Random Forest (AUC = %0.2f)\" %(mean_auc),\n",
        "         color=\"deeppink\",\n",
        "         lw=lw,\n",
        "         alpha=1)\n",
        "\n",
        "\n",
        "mean_fpr, mean_tpr, mean_auc, std_auc = roc_auc_mean_std(svm_df)\n",
        "plt.plot(mean_fpr,\n",
        "         mean_tpr,\n",
        "         label=r\"SVM (AUC = %0.2f)\" %(mean_auc),\n",
        "         color=\"aqua\",\n",
        "         lw=lw,\n",
        "         alpha=0.8)\n",
        "\n",
        "mean_fpr, mean_tpr, mean_auc, std_auc = roc_auc_mean_std(ann_df)\n",
        "plt.plot(mean_fpr,\n",
        "         mean_tpr,\n",
        "         label=r\"ANN (AUC = %0.2f)\" %(mean_auc),\n",
        "         color=\"darkorange\",\n",
        "         lw=lw,\n",
        "         alpha=alpha)\n",
        "\n",
        "plt.plot([0, 1], [0, 1], color=\"navy\", lw=lw, linestyle=\"--\")\n",
        "plt.plot([0, 1], [0, 1], linestyle=\"--\", lw=2, color=\"r\", alpha=0.8)\n",
        "\n",
        "plt.xlabel(\"1-Specificity\", fontsize=14)\n",
        "plt.ylabel(\"Sensitivity\", fontsize=14)\n",
        "\n",
        "\n",
        "plt.legend(loc=\"lower right\", prop={'size': 14})\n",
        "\n",
        "# plt.savefig('roc_curve.png', dpi=1000, bbox_inches = 'tight')\n",
        "plt.show()"
      ],
      "metadata": {
        "id": "OcdrUsC9krPv"
      },
      "execution_count": null,
      "outputs": []
    }
  ]
}